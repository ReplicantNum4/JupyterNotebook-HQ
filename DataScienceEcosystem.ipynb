{
 "cells": [
  {
   "cell_type": "markdown",
   "id": "a038f38a-de36-4c95-b41c-9798ffcf4d17",
   "metadata": {
    "tags": []
   },
   "source": [
    "# Data Science Tools and Ecosystem"
   ]
  },
  {
   "cell_type": "markdown",
   "id": "3dea9234-7820-40d9-ba9a-597fcc3e9c80",
   "metadata": {
    "tags": []
   },
   "source": [
    "In this notebook, Data Science Tools and Ecosystem are summarized."
   ]
  },
  {
   "cell_type": "markdown",
   "id": "72343f32-a879-487f-8ebe-9ec80968950d",
   "metadata": {},
   "source": [
    "**Objectives:**\n",
    "- Listing data science languages\n",
    "- Performing arithmetic functions\n",
    "- Creating tables and lists\n"
   ]
  },
  {
   "cell_type": "markdown",
   "id": "dc8cf0ac-b470-4e16-b80c-a99a85884d7c",
   "metadata": {},
   "source": [
    "Some of the popular languages that Data Scientists use are:\n",
    "\n",
    "1. Python\n",
    "2. SQL\n",
    "3. R"
   ]
  },
  {
   "cell_type": "markdown",
   "id": "30268171-280d-48e7-8276-3f0a579f882e",
   "metadata": {},
   "source": [
    "Some of the commonly used libraries used by Data Scientists include:\n",
    "\n",
    "1. Matplotlib\n",
    "2. Apache Spark\n",
    "3. Tensor Flow\n"
   ]
  },
  {
   "cell_type": "markdown",
   "id": "7695e9da-bee3-4bdd-b8db-1e01567da28d",
   "metadata": {},
   "source": [
    "|Data Science Tools|\n",
    "|------------------|\n",
    "Microsoft Power BI\n",
    "Tableau\n",
    "Tensor Flow\n",
    "\n",
    "\n",
    "\n"
   ]
  },
  {
   "cell_type": "markdown",
   "id": "8e2c0c12-f0d5-4a87-961f-db7895e3321f",
   "metadata": {},
   "source": [
    "### Below are a few examples of evaluating arithmetic expressions in Python.\n"
   ]
  },
  {
   "cell_type": "code",
   "execution_count": 1,
   "id": "5813ccfb-c99b-4245-905e-26c80b1ad395",
   "metadata": {
    "tags": []
   },
   "outputs": [
    {
     "data": {
      "text/plain": [
       "17"
      ]
     },
     "execution_count": 1,
     "metadata": {},
     "output_type": "execute_result"
    }
   ],
   "source": [
    "# This a simple arithmetic expression to mutiply then add integers\n",
    "(3*4)+5"
   ]
  },
  {
   "cell_type": "code",
   "execution_count": 3,
   "id": "5c4f2887-6266-47b3-a4bc-e024eced857e",
   "metadata": {
    "tags": []
   },
   "outputs": [
    {
     "data": {
      "text/plain": [
       "3.3333333333333335"
      ]
     },
     "execution_count": 3,
     "metadata": {},
     "output_type": "execute_result"
    }
   ],
   "source": [
    "# This will convert 200 minutes to hours by diving by 60\n",
    "200/60"
   ]
  },
  {
   "cell_type": "markdown",
   "id": "c34ce72b-7576-47be-a618-fbf26f3d9191",
   "metadata": {},
   "source": [
    "## Author\n",
    "Haider Q"
   ]
  },
  {
   "cell_type": "code",
   "execution_count": null,
   "id": "ec43049b-7e13-4e59-8e25-892e53261cd4",
   "metadata": {},
   "outputs": [],
   "source": []
  }
 ],
 "metadata": {
  "kernelspec": {
   "display_name": "Python",
   "language": "python",
   "name": "conda-env-python-py"
  },
  "language_info": {
   "codemirror_mode": {
    "name": "ipython",
    "version": 3
   },
   "file_extension": ".py",
   "mimetype": "text/x-python",
   "name": "python",
   "nbconvert_exporter": "python",
   "pygments_lexer": "ipython3",
   "version": "3.7.12"
  }
 },
 "nbformat": 4,
 "nbformat_minor": 5
}
